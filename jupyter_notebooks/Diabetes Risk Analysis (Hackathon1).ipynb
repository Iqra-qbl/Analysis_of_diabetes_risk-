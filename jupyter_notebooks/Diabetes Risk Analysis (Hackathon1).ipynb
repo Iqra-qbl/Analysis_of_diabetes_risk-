{
  "cells": [
    {
      "cell_type": "markdown",
      "metadata": {
        "id": "0aStgWSO0E0E"
      },
      "source": [
        "# **Analysis of Diabetes Risk in India**"
      ]
    },
    {
      "cell_type": "markdown",
      "metadata": {
        "id": "1eLEkw5O0ECa"
      },
      "source": [
        "## Objectives\n",
        "\n",
        "* Create a comprehensive data analysis tool designed for medical professionals to streamline data exploration, analysis, and visualisation to analyze behavioural and lifestyle factors on diabetes risk in India.\n",
        "\n",
        "## Inputs\n",
        "\n",
        "* Data source: https://www.kaggle.com/datasets/ankushpanday1/diabetes-in-youth-vs-adult-in-india\n",
        "\n",
        "\n",
        "## Outputs\n",
        "\n",
        "* A jupyter notebook file (Diabetes Risk Analysis (Hackathon1.ipynb) to showcase the data analysis.\n",
        "\n",
        "## Additional Comments\n",
        "\n",
        "* Started the project building simple code step by step to showcase data  cleaning process, then compilined the process in a imputer pipeline called Diabetes_ETL.\n",
        "\n"
      ]
    },
    {
      "cell_type": "markdown",
      "metadata": {
        "id": "9uWZXH9LwoQg"
      },
      "source": [
        "---"
      ]
    },
    {
      "cell_type": "markdown",
      "metadata": {
        "id": "cqP-UeN-z3i2"
      },
      "source": [
        "# Working directory"
      ]
    },
    {
      "cell_type": "markdown",
      "metadata": {
        "id": "aOGIGS-uz3i2"
      },
      "source": [
        "Changed the working directory from its current folder to its parent folder\n",
        "* Accessing the current directory with os.getcwd()"
      ]
    },
    {
      "cell_type": "code",
      "execution_count": 1,
      "metadata": {},
      "outputs": [
        {
          "data": {
            "text/plain": [
              "'/workspace/Analysis_of_diabetes_risk-/jupyter_notebooks'"
            ]
          },
          "execution_count": 1,
          "metadata": {},
          "output_type": "execute_result"
        }
      ],
      "source": [
        "import os\n",
        "current_dir = os.getcwd()\n",
        "current_dir"
      ]
    },
    {
      "cell_type": "markdown",
      "metadata": {
        "id": "9MWW8E7lz3i7"
      },
      "source": [
        "We want to make the parent of the current directory the new current directory\n",
        "* os.path.dirname() gets the parent directory\n",
        "* os.chir() defines the new current directory"
      ]
    },
    {
      "cell_type": "code",
      "execution_count": 2,
      "metadata": {},
      "outputs": [
        {
          "name": "stdout",
          "output_type": "stream",
          "text": [
            "You set a new current directory\n"
          ]
        }
      ],
      "source": [
        "os.chdir(os.path.dirname(current_dir))\n",
        "print(\"You set a new current directory\")"
      ]
    },
    {
      "cell_type": "markdown",
      "metadata": {},
      "source": [
        "Confirm new directory"
      ]
    },
    {
      "cell_type": "code",
      "execution_count": 3,
      "metadata": {},
      "outputs": [
        {
          "data": {
            "text/plain": [
              "'/workspace/Analysis_of_diabetes_risk-'"
            ]
          },
          "execution_count": 3,
          "metadata": {},
          "output_type": "execute_result"
        }
      ],
      "source": [
        "current_dir = os.getcwd()\n",
        "current_dir"
      ]
    },
    {
      "cell_type": "markdown",
      "metadata": {
        "id": "-mavJ8DibrcQ"
      },
      "source": [
        "# Section 1 :  Data Extraction, Transformation, and Loading (ETL) "
      ]
    },
    {
      "cell_type": "code",
      "execution_count": 4,
      "metadata": {},
      "outputs": [],
      "source": [
        "# Setting up & Importing packages\n",
        "import numpy as np\n",
        "import matplotlib.pyplot as plt\n",
        "import seaborn as sns\n",
        "import pandas as pd\n",
        "sns.set_style('whitegrid')\n",
        "from sklearn.pipeline import Pipeline\n",
        "import plotly.express as px"
      ]
    },
    {
      "cell_type": "code",
      "execution_count": 5,
      "metadata": {},
      "outputs": [],
      "source": [
        "# Loading the dataset in Diabetes datafrrame\n",
        "diabetes_df= pd.read_csv('diabetes young adults india.csv')"
      ]
    },
    {
      "cell_type": "code",
      "execution_count": 6,
      "metadata": {},
      "outputs": [],
      "source": [
        "#Preview of top 15 entries in dataset\n",
        "top_rows= diabetes_df.head(15)"
      ]
    },
    {
      "cell_type": "code",
      "execution_count": 7,
      "metadata": {},
      "outputs": [
        {
          "data": {
            "text/plain": [
              "[Index(['ID', 'Age', 'Gender', 'Region', 'Family_Income',\n",
              "        'Family_History_Diabetes', 'Parent_Diabetes_Type', 'Genetic_Risk_Score',\n",
              "        'BMI', 'Physical_Activity_Level', 'Dietary_Habits', 'Fast_Food_Intake',\n",
              "        'Smoking', 'Alcohol_Consumption', 'Fasting_Blood_Sugar', 'HbA1c',\n",
              "        'Cholesterol_Level', 'Prediabetes', 'Diabetes_Type', 'Sleep_Hours',\n",
              "        'Stress_Level', 'Screen_Time'],\n",
              "       dtype='object')]"
            ]
          },
          "execution_count": 7,
          "metadata": {},
          "output_type": "execute_result"
        }
      ],
      "source": [
        "# Making a list of all Column names\n",
        "Df_cols= [diabetes_df.columns]\n",
        "Df_cols"
      ]
    },
    {
      "cell_type": "code",
      "execution_count": 8,
      "metadata": {},
      "outputs": [
        {
          "name": "stdout",
          "output_type": "stream",
          "text": [
            "There are 100000 rows and 22 columns in the Diabetes Dataframe.\n"
          ]
        }
      ],
      "source": [
        "# Total number of rows and columns in Diabetes dataframe\n",
        "diabetes_df.shape\n",
        "print(f\"There are {diabetes_df.shape[0]} rows and {diabetes_df.shape[1]} columns in the Diabetes Dataframe.\")"
      ]
    },
    {
      "cell_type": "code",
      "execution_count": 9,
      "metadata": {},
      "outputs": [],
      "source": [
        "#Checking for values in each column\n",
        "def col_value_check(diabetes_df):\n",
        "      if isinstance(diabetes_df, pd.DataFrame):\n",
        "        for col in diabetes_df.columns: \n",
        "          print(f\"{col} value counts:\") \n",
        "          print(diabetes_df[col].value_counts())\n",
        "        return\n"
      ]
    },
    {
      "cell_type": "code",
      "execution_count": 10,
      "metadata": {},
      "outputs": [
        {
          "name": "stdout",
          "output_type": "stream",
          "text": [
            "ID value counts:\n",
            "1         1\n",
            "66651     1\n",
            "66673     1\n",
            "66672     1\n",
            "66671     1\n",
            "         ..\n",
            "33332     1\n",
            "33331     1\n",
            "33330     1\n",
            "33329     1\n",
            "100000    1\n",
            "Name: ID, Length: 100000, dtype: int64\n",
            "Age value counts:\n",
            "24    9259\n",
            "21    9205\n",
            "20    9194\n",
            "18    9127\n",
            "23    9123\n",
            "19    9089\n",
            "15    9031\n",
            "22    9030\n",
            "17    9006\n",
            "16    9005\n",
            "25    8931\n",
            "Name: Age, dtype: int64\n",
            "Gender value counts:\n",
            "Female    48073\n",
            "Male      47964\n",
            "Other      3963\n",
            "Name: Gender, dtype: int64\n",
            "Region value counts:\n",
            "North        16768\n",
            "East         16751\n",
            "Northeast    16677\n",
            "South        16650\n",
            "West         16607\n",
            "Central      16547\n",
            "Name: Region, dtype: int64\n",
            "Family_Income value counts:\n",
            "652308     3\n",
            "929543     3\n",
            "1745785    3\n",
            "1121039    3\n",
            "2071659    3\n",
            "          ..\n",
            "300996     1\n",
            "307472     1\n",
            "1686855    1\n",
            "497882     1\n",
            "1972687    1\n",
            "Name: Family_Income, Length: 98018, dtype: int64\n",
            "Family_History_Diabetes value counts:\n",
            "No     64912\n",
            "Yes    35088\n",
            "Name: Family_History_Diabetes, dtype: int64\n",
            "Parent_Diabetes_Type value counts:\n",
            "None      65097\n",
            "Type 2    25009\n",
            "Type 1     9894\n",
            "Name: Parent_Diabetes_Type, dtype: int64\n",
            "Genetic_Risk_Score value counts:\n",
            "9     10091\n",
            "3     10078\n",
            "6     10038\n",
            "10    10022\n",
            "4     10014\n",
            "7      9992\n",
            "1      9969\n",
            "5      9946\n",
            "8      9939\n",
            "2      9911\n",
            "Name: Genetic_Risk_Score, dtype: int64\n",
            "BMI value counts:\n",
            "37.2    475\n",
            "39.3    475\n",
            "18.4    465\n",
            "27.4    465\n",
            "22.8    463\n",
            "       ... \n",
            "38.2    369\n",
            "27.1    368\n",
            "39.1    367\n",
            "40.0    219\n",
            "16.0    211\n",
            "Name: BMI, Length: 241, dtype: int64\n",
            "Physical_Activity_Level value counts:\n",
            "Sedentary    50087\n",
            "Moderate     29896\n",
            "Active       20017\n",
            "Name: Physical_Activity_Level, dtype: int64\n",
            "Dietary_Habits value counts:\n",
            "Moderate     39786\n",
            "Unhealthy    30428\n",
            "Healthy      29786\n",
            "Name: Dietary_Habits, dtype: int64\n",
            "Fast_Food_Intake value counts:\n",
            "1     9289\n",
            "0     9211\n",
            "8     9194\n",
            "5     9110\n",
            "2     9096\n",
            "7     9070\n",
            "10    9058\n",
            "6     9057\n",
            "9     9038\n",
            "3     8987\n",
            "4     8890\n",
            "Name: Fast_Food_Intake, dtype: int64\n",
            "Smoking value counts:\n",
            "No     69786\n",
            "Yes    30214\n",
            "Name: Smoking, dtype: int64\n",
            "Alcohol_Consumption value counts:\n",
            "No     80214\n",
            "Yes    19786\n",
            "Name: Alcohol_Consumption, dtype: int64\n",
            "Fasting_Blood_Sugar value counts:\n",
            "162.1    121\n",
            "104.5    120\n",
            "133.2    120\n",
            "105.0    119\n",
            "131.1    117\n",
            "        ... \n",
            "70.2      67\n",
            "88.1      66\n",
            "124.2     60\n",
            "70.0      50\n",
            "180.0     44\n",
            "Name: Fasting_Blood_Sugar, Length: 1101, dtype: int64\n",
            "HbA1c value counts:\n",
            "6.6     1741\n",
            "8.1     1740\n",
            "4.8     1725\n",
            "9.6     1725\n",
            "5.1     1722\n",
            "        ... \n",
            "9.5     1605\n",
            "8.8     1600\n",
            "6.7     1558\n",
            "10.0     886\n",
            "4.0      773\n",
            "Name: HbA1c, Length: 61, dtype: int64\n",
            "Cholesterol_Level value counts:\n",
            "206.7    84\n",
            "159.3    79\n",
            "298.5    77\n",
            "289.5    77\n",
            "187.5    76\n",
            "         ..\n",
            "217.2    35\n",
            "172.6    34\n",
            "255.4    34\n",
            "120.0    31\n",
            "300.0    23\n",
            "Name: Cholesterol_Level, Length: 1801, dtype: int64\n",
            "Prediabetes value counts:\n",
            "No     69979\n",
            "Yes    30021\n",
            "Name: Prediabetes, dtype: int64\n",
            "Diabetes_Type value counts:\n",
            "None      74776\n",
            "Type 2    20297\n",
            "Type 1     4927\n",
            "Name: Diabetes_Type, dtype: int64\n",
            "Sleep_Hours value counts:\n",
            "6.5     1736\n",
            "5.0     1735\n",
            "7.6     1734\n",
            "9.5     1734\n",
            "4.5     1732\n",
            "        ... \n",
            "9.6     1577\n",
            "6.0     1576\n",
            "9.3     1545\n",
            "10.0     868\n",
            "4.0      814\n",
            "Name: Sleep_Hours, Length: 61, dtype: int64\n",
            "Stress_Level value counts:\n",
            "2     10149\n",
            "8     10104\n",
            "10    10074\n",
            "9     10061\n",
            "1     10047\n",
            "5      9977\n",
            "6      9970\n",
            "7      9955\n",
            "4      9836\n",
            "3      9827\n",
            "Name: Stress_Level, dtype: int64\n",
            "Screen_Time value counts:\n",
            "5.5     1005\n",
            "8.5      996\n",
            "2.8      985\n",
            "4.3      980\n",
            "9.1      965\n",
            "        ... \n",
            "10.7     851\n",
            "11.4     850\n",
            "4.7      836\n",
            "1.0      459\n",
            "12.0     453\n",
            "Name: Screen_Time, Length: 111, dtype: int64\n"
          ]
        }
      ],
      "source": [
        "col_value_check(diabetes_df)"
      ]
    },
    {
      "cell_type": "code",
      "execution_count": 11,
      "metadata": {},
      "outputs": [
        {
          "name": "stdout",
          "output_type": "stream",
          "text": [
            "<class 'pandas.core.frame.DataFrame'>\n",
            "RangeIndex: 100000 entries, 0 to 99999\n",
            "Data columns (total 22 columns):\n",
            " #   Column                   Non-Null Count   Dtype  \n",
            "---  ------                   --------------   -----  \n",
            " 0   ID                       100000 non-null  int64  \n",
            " 1   Age                      100000 non-null  int64  \n",
            " 2   Gender                   100000 non-null  object \n",
            " 3   Region                   100000 non-null  object \n",
            " 4   Family_Income            100000 non-null  int64  \n",
            " 5   Family_History_Diabetes  100000 non-null  object \n",
            " 6   Parent_Diabetes_Type     100000 non-null  object \n",
            " 7   Genetic_Risk_Score       100000 non-null  int64  \n",
            " 8   BMI                      100000 non-null  float64\n",
            " 9   Physical_Activity_Level  100000 non-null  object \n",
            " 10  Dietary_Habits           100000 non-null  object \n",
            " 11  Fast_Food_Intake         100000 non-null  int64  \n",
            " 12  Smoking                  100000 non-null  object \n",
            " 13  Alcohol_Consumption      100000 non-null  object \n",
            " 14  Fasting_Blood_Sugar      100000 non-null  float64\n",
            " 15  HbA1c                    100000 non-null  float64\n",
            " 16  Cholesterol_Level        100000 non-null  float64\n",
            " 17  Prediabetes              100000 non-null  object \n",
            " 18  Diabetes_Type            100000 non-null  object \n",
            " 19  Sleep_Hours              100000 non-null  float64\n",
            " 20  Stress_Level             100000 non-null  int64  \n",
            " 21  Screen_Time              100000 non-null  float64\n",
            "dtypes: float64(6), int64(6), object(10)\n",
            "memory usage: 16.8+ MB\n"
          ]
        }
      ],
      "source": [
        "# Checking initial information on Index, Datatypes and Memory used\n",
        "Dataframe_info= diabetes_df.info()"
      ]
    },
    {
      "cell_type": "code",
      "execution_count": 12,
      "metadata": {},
      "outputs": [
        {
          "name": "stdout",
          "output_type": "stream",
          "text": [
            "Any duplicate values: False\n"
          ]
        }
      ],
      "source": [
        "#Checking for any duplicate values\n",
        "duplicates_check= diabetes_df.duplicated().any()\n",
        "print (f'Any duplicate values:',duplicates_check)"
      ]
    },
    {
      "cell_type": "code",
      "execution_count": 13,
      "metadata": {},
      "outputs": [],
      "source": [
        "# Checking for missing values in  dataset\n",
        "missingvalues_check= diabetes_df.isnull().sum()\n"
      ]
    },
    {
      "cell_type": "code",
      "execution_count": 14,
      "metadata": {},
      "outputs": [],
      "source": [
        "#Dropping data columns not going to be used in further analysis\n",
        "col_dropped= ['ID','Family_Income', 'Family_History_Diabetes','Parent_Diabetes_Type', 'Fasting_Blood_Sugar','Genetic_Risk_Score']                               \n",
        "diabetes_df= diabetes_df.drop(columns= col_dropped)"
      ]
    },
    {
      "cell_type": "code",
      "execution_count": 15,
      "metadata": {},
      "outputs": [
        {
          "data": {
            "text/html": [
              "<div>\n",
              "<style scoped>\n",
              "    .dataframe tbody tr th:only-of-type {\n",
              "        vertical-align: middle;\n",
              "    }\n",
              "\n",
              "    .dataframe tbody tr th {\n",
              "        vertical-align: top;\n",
              "    }\n",
              "\n",
              "    .dataframe thead th {\n",
              "        text-align: right;\n",
              "    }\n",
              "</style>\n",
              "<table border=\"1\" class=\"dataframe\">\n",
              "  <thead>\n",
              "    <tr style=\"text-align: right;\">\n",
              "      <th></th>\n",
              "      <th>Age</th>\n",
              "      <th>Gender</th>\n",
              "      <th>Region</th>\n",
              "      <th>BMI</th>\n",
              "      <th>Physical_Activity_Level</th>\n",
              "      <th>Dietary_Habits</th>\n",
              "      <th>Fast_Food_Intake</th>\n",
              "      <th>Smoking</th>\n",
              "      <th>Alcohol_Consumption</th>\n",
              "      <th>HbA1c</th>\n",
              "      <th>Cholesterol_Level</th>\n",
              "      <th>Prediabetes</th>\n",
              "      <th>Diabetes_Type</th>\n",
              "      <th>Sleep_Hours</th>\n",
              "      <th>Stress_Level</th>\n",
              "      <th>Screen_Time</th>\n",
              "    </tr>\n",
              "  </thead>\n",
              "  <tbody>\n",
              "    <tr>\n",
              "      <th>0</th>\n",
              "      <td>21</td>\n",
              "      <td>Male</td>\n",
              "      <td>North</td>\n",
              "      <td>31.4</td>\n",
              "      <td>Sedentary</td>\n",
              "      <td>Moderate</td>\n",
              "      <td>1</td>\n",
              "      <td>Yes</td>\n",
              "      <td>No</td>\n",
              "      <td>9.5</td>\n",
              "      <td>163.3</td>\n",
              "      <td>Yes</td>\n",
              "      <td>None</td>\n",
              "      <td>7.7</td>\n",
              "      <td>7</td>\n",
              "      <td>6.8</td>\n",
              "    </tr>\n",
              "    <tr>\n",
              "      <th>1</th>\n",
              "      <td>18</td>\n",
              "      <td>Female</td>\n",
              "      <td>Central</td>\n",
              "      <td>24.4</td>\n",
              "      <td>Active</td>\n",
              "      <td>Unhealthy</td>\n",
              "      <td>5</td>\n",
              "      <td>No</td>\n",
              "      <td>No</td>\n",
              "      <td>5.0</td>\n",
              "      <td>169.1</td>\n",
              "      <td>Yes</td>\n",
              "      <td>None</td>\n",
              "      <td>7.9</td>\n",
              "      <td>8</td>\n",
              "      <td>6.0</td>\n",
              "    </tr>\n",
              "    <tr>\n",
              "      <th>2</th>\n",
              "      <td>25</td>\n",
              "      <td>Male</td>\n",
              "      <td>North</td>\n",
              "      <td>20.0</td>\n",
              "      <td>Moderate</td>\n",
              "      <td>Moderate</td>\n",
              "      <td>2</td>\n",
              "      <td>No</td>\n",
              "      <td>No</td>\n",
              "      <td>8.3</td>\n",
              "      <td>296.3</td>\n",
              "      <td>Yes</td>\n",
              "      <td>Type 1</td>\n",
              "      <td>7.6</td>\n",
              "      <td>8</td>\n",
              "      <td>4.6</td>\n",
              "    </tr>\n",
              "    <tr>\n",
              "      <th>3</th>\n",
              "      <td>22</td>\n",
              "      <td>Male</td>\n",
              "      <td>Northeast</td>\n",
              "      <td>39.8</td>\n",
              "      <td>Moderate</td>\n",
              "      <td>Unhealthy</td>\n",
              "      <td>4</td>\n",
              "      <td>No</td>\n",
              "      <td>Yes</td>\n",
              "      <td>4.6</td>\n",
              "      <td>252.8</td>\n",
              "      <td>No</td>\n",
              "      <td>None</td>\n",
              "      <td>9.5</td>\n",
              "      <td>2</td>\n",
              "      <td>10.9</td>\n",
              "    </tr>\n",
              "    <tr>\n",
              "      <th>4</th>\n",
              "      <td>19</td>\n",
              "      <td>Male</td>\n",
              "      <td>Central</td>\n",
              "      <td>19.2</td>\n",
              "      <td>Moderate</td>\n",
              "      <td>Moderate</td>\n",
              "      <td>0</td>\n",
              "      <td>No</td>\n",
              "      <td>Yes</td>\n",
              "      <td>5.3</td>\n",
              "      <td>252.3</td>\n",
              "      <td>No</td>\n",
              "      <td>None</td>\n",
              "      <td>6.4</td>\n",
              "      <td>2</td>\n",
              "      <td>1.3</td>\n",
              "    </tr>\n",
              "  </tbody>\n",
              "</table>\n",
              "</div>"
            ],
            "text/plain": [
              "   Age  Gender     Region   BMI Physical_Activity_Level Dietary_Habits  \\\n",
              "0   21    Male      North  31.4               Sedentary       Moderate   \n",
              "1   18  Female    Central  24.4                  Active      Unhealthy   \n",
              "2   25    Male      North  20.0                Moderate       Moderate   \n",
              "3   22    Male  Northeast  39.8                Moderate      Unhealthy   \n",
              "4   19    Male    Central  19.2                Moderate       Moderate   \n",
              "\n",
              "   Fast_Food_Intake Smoking Alcohol_Consumption  HbA1c  Cholesterol_Level  \\\n",
              "0                 1     Yes                  No    9.5              163.3   \n",
              "1                 5      No                  No    5.0              169.1   \n",
              "2                 2      No                  No    8.3              296.3   \n",
              "3                 4      No                 Yes    4.6              252.8   \n",
              "4                 0      No                 Yes    5.3              252.3   \n",
              "\n",
              "  Prediabetes Diabetes_Type  Sleep_Hours  Stress_Level  Screen_Time  \n",
              "0         Yes          None          7.7             7          6.8  \n",
              "1         Yes          None          7.9             8          6.0  \n",
              "2         Yes        Type 1          7.6             8          4.6  \n",
              "3          No          None          9.5             2         10.9  \n",
              "4          No          None          6.4             2          1.3  "
            ]
          },
          "execution_count": 15,
          "metadata": {},
          "output_type": "execute_result"
        }
      ],
      "source": [
        "diabetes_df.head()"
      ]
    },
    {
      "cell_type": "code",
      "execution_count": 16,
      "metadata": {},
      "outputs": [
        {
          "data": {
            "text/html": [
              "<div>\n",
              "<style scoped>\n",
              "    .dataframe tbody tr th:only-of-type {\n",
              "        vertical-align: middle;\n",
              "    }\n",
              "\n",
              "    .dataframe tbody tr th {\n",
              "        vertical-align: top;\n",
              "    }\n",
              "\n",
              "    .dataframe thead th {\n",
              "        text-align: right;\n",
              "    }\n",
              "</style>\n",
              "<table border=\"1\" class=\"dataframe\">\n",
              "  <thead>\n",
              "    <tr style=\"text-align: right;\">\n",
              "      <th></th>\n",
              "      <th>Age</th>\n",
              "      <th>BMI</th>\n",
              "      <th>Fast_Food_Intake</th>\n",
              "      <th>HbA1c</th>\n",
              "      <th>Cholesterol_Level</th>\n",
              "      <th>Sleep_Hours</th>\n",
              "      <th>Stress_Level</th>\n",
              "      <th>Screen_Time</th>\n",
              "    </tr>\n",
              "  </thead>\n",
              "  <tbody>\n",
              "    <tr>\n",
              "      <th>count</th>\n",
              "      <td>100000.000000</td>\n",
              "      <td>100000.000000</td>\n",
              "      <td>100000.000000</td>\n",
              "      <td>100000.000000</td>\n",
              "      <td>100000.000000</td>\n",
              "      <td>100000.000000</td>\n",
              "      <td>100000.00000</td>\n",
              "      <td>100000.000000</td>\n",
              "    </tr>\n",
              "    <tr>\n",
              "      <th>mean</th>\n",
              "      <td>20.007890</td>\n",
              "      <td>28.028089</td>\n",
              "      <td>4.988580</td>\n",
              "      <td>7.006461</td>\n",
              "      <td>209.903952</td>\n",
              "      <td>6.988082</td>\n",
              "      <td>5.50681</td>\n",
              "      <td>6.503842</td>\n",
              "    </tr>\n",
              "    <tr>\n",
              "      <th>std</th>\n",
              "      <td>3.154934</td>\n",
              "      <td>6.924196</td>\n",
              "      <td>3.169762</td>\n",
              "      <td>1.735327</td>\n",
              "      <td>52.049374</td>\n",
              "      <td>1.734122</td>\n",
              "      <td>2.87943</td>\n",
              "      <td>3.170210</td>\n",
              "    </tr>\n",
              "    <tr>\n",
              "      <th>min</th>\n",
              "      <td>15.000000</td>\n",
              "      <td>16.000000</td>\n",
              "      <td>0.000000</td>\n",
              "      <td>4.000000</td>\n",
              "      <td>120.000000</td>\n",
              "      <td>4.000000</td>\n",
              "      <td>1.00000</td>\n",
              "      <td>1.000000</td>\n",
              "    </tr>\n",
              "    <tr>\n",
              "      <th>25%</th>\n",
              "      <td>17.000000</td>\n",
              "      <td>22.100000</td>\n",
              "      <td>2.000000</td>\n",
              "      <td>5.500000</td>\n",
              "      <td>164.800000</td>\n",
              "      <td>5.500000</td>\n",
              "      <td>3.00000</td>\n",
              "      <td>3.800000</td>\n",
              "    </tr>\n",
              "    <tr>\n",
              "      <th>50%</th>\n",
              "      <td>20.000000</td>\n",
              "      <td>28.000000</td>\n",
              "      <td>5.000000</td>\n",
              "      <td>7.000000</td>\n",
              "      <td>209.800000</td>\n",
              "      <td>7.000000</td>\n",
              "      <td>6.00000</td>\n",
              "      <td>6.500000</td>\n",
              "    </tr>\n",
              "    <tr>\n",
              "      <th>75%</th>\n",
              "      <td>23.000000</td>\n",
              "      <td>34.000000</td>\n",
              "      <td>8.000000</td>\n",
              "      <td>8.500000</td>\n",
              "      <td>255.000000</td>\n",
              "      <td>8.500000</td>\n",
              "      <td>8.00000</td>\n",
              "      <td>9.300000</td>\n",
              "    </tr>\n",
              "    <tr>\n",
              "      <th>max</th>\n",
              "      <td>25.000000</td>\n",
              "      <td>40.000000</td>\n",
              "      <td>10.000000</td>\n",
              "      <td>10.000000</td>\n",
              "      <td>300.000000</td>\n",
              "      <td>10.000000</td>\n",
              "      <td>10.00000</td>\n",
              "      <td>12.000000</td>\n",
              "    </tr>\n",
              "  </tbody>\n",
              "</table>\n",
              "</div>"
            ],
            "text/plain": [
              "                 Age            BMI  Fast_Food_Intake          HbA1c  \\\n",
              "count  100000.000000  100000.000000     100000.000000  100000.000000   \n",
              "mean       20.007890      28.028089          4.988580       7.006461   \n",
              "std         3.154934       6.924196          3.169762       1.735327   \n",
              "min        15.000000      16.000000          0.000000       4.000000   \n",
              "25%        17.000000      22.100000          2.000000       5.500000   \n",
              "50%        20.000000      28.000000          5.000000       7.000000   \n",
              "75%        23.000000      34.000000          8.000000       8.500000   \n",
              "max        25.000000      40.000000         10.000000      10.000000   \n",
              "\n",
              "       Cholesterol_Level    Sleep_Hours  Stress_Level    Screen_Time  \n",
              "count      100000.000000  100000.000000  100000.00000  100000.000000  \n",
              "mean          209.903952       6.988082       5.50681       6.503842  \n",
              "std            52.049374       1.734122       2.87943       3.170210  \n",
              "min           120.000000       4.000000       1.00000       1.000000  \n",
              "25%           164.800000       5.500000       3.00000       3.800000  \n",
              "50%           209.800000       7.000000       6.00000       6.500000  \n",
              "75%           255.000000       8.500000       8.00000       9.300000  \n",
              "max           300.000000      10.000000      10.00000      12.000000  "
            ]
          },
          "execution_count": 16,
          "metadata": {},
          "output_type": "execute_result"
        }
      ],
      "source": [
        "# Descrpitive Statistics Overview\n",
        "Summary_stats= diabetes_df.describe()\n",
        "\n",
        "Summary_stats"
      ]
    },
    {
      "cell_type": "markdown",
      "metadata": {},
      "source": [
        "# Section 2"
      ]
    },
    {
      "cell_type": "markdown",
      "metadata": {},
      "source": [
        "Pipeline functions"
      ]
    },
    {
      "cell_type": "code",
      "execution_count": 17,
      "metadata": {},
      "outputs": [],
      "source": [
        "# Function to transform variable datatypes to numeric datatype for analysis\n",
        "def transform_data(diabetes_df): \n",
        "\n",
        "     # Define the imputer  \n",
        "      imputer = SimpleImputer(strategy='mean') \n",
        "\n",
        "     # Create a pipeline for imputation \n",
        "      imputer_pipeline = Pipeline(steps=[('imputer', imputer)]) \n",
        "\n",
        "     # Specify the columns to be imputed \n",
        "      columns_to_impute = ['BMI', 'physical_activity', 'dietary_habits', 'smoking', \n",
        "                     'fast_food_intake', 'alcohol_consumption'] \n",
        "                     \n",
        "     # Apply the imputer pipeline to the specified columns \n",
        "      diabetes_df[columns_to_impute] = imputer_pipeline.fit_transform(diabetes_df[columns_to_impute]) \n",
        "\n",
        "     # Convert categorical variables to numerical \n",
        "      diabetes_df['smoking'] = ddiabetes_df['smoking'].map({'yes': 1, 'no': 0}) \n",
        "      diabetes_df['fast_food_intake'] = diabetes_df['fast_food_intake'].map({'frequent': 1, 'rare': 0}) \n",
        "      diabetes_df['alcohol_consumption'] = diabetes_df['alcohol_consumption'].map({'regular': 1, 'occasional': 0}) \n",
        "      diabetes_df['physical_activity'] = diabetes_df['physical_activity'].map({'regular': 1, 'rare': 0}) \n",
        "      diabetes_df['dietary_habits'] = df['dietary_habits'].map({'healthy': 1, 'unhealthy': 0})\n",
        "      return diabetes_df"
      ]
    },
    {
      "cell_type": "code",
      "execution_count": 24,
      "metadata": {},
      "outputs": [
        {
          "data": {
            "text/html": [
              "<div>\n",
              "<style scoped>\n",
              "    .dataframe tbody tr th:only-of-type {\n",
              "        vertical-align: middle;\n",
              "    }\n",
              "\n",
              "    .dataframe tbody tr th {\n",
              "        vertical-align: top;\n",
              "    }\n",
              "\n",
              "    .dataframe thead th {\n",
              "        text-align: right;\n",
              "    }\n",
              "</style>\n",
              "<table border=\"1\" class=\"dataframe\">\n",
              "  <thead>\n",
              "    <tr style=\"text-align: right;\">\n",
              "      <th></th>\n",
              "      <th>Age</th>\n",
              "      <th>BMI</th>\n",
              "      <th>Fast_Food_Intake</th>\n",
              "      <th>HbA1c</th>\n",
              "      <th>Cholesterol_Level</th>\n",
              "      <th>Sleep_Hours</th>\n",
              "      <th>Stress_Level</th>\n",
              "      <th>Screen_Time</th>\n",
              "    </tr>\n",
              "  </thead>\n",
              "  <tbody>\n",
              "    <tr>\n",
              "      <th>Age</th>\n",
              "      <td>1.000000</td>\n",
              "      <td>-0.000482</td>\n",
              "      <td>0.006896</td>\n",
              "      <td>0.006189</td>\n",
              "      <td>-0.000582</td>\n",
              "      <td>-0.000743</td>\n",
              "      <td>0.004517</td>\n",
              "      <td>0.000513</td>\n",
              "    </tr>\n",
              "    <tr>\n",
              "      <th>BMI</th>\n",
              "      <td>-0.000482</td>\n",
              "      <td>1.000000</td>\n",
              "      <td>-0.002043</td>\n",
              "      <td>0.005600</td>\n",
              "      <td>-0.002994</td>\n",
              "      <td>-0.002895</td>\n",
              "      <td>-0.000203</td>\n",
              "      <td>-0.005156</td>\n",
              "    </tr>\n",
              "    <tr>\n",
              "      <th>Fast_Food_Intake</th>\n",
              "      <td>0.006896</td>\n",
              "      <td>-0.002043</td>\n",
              "      <td>1.000000</td>\n",
              "      <td>0.001768</td>\n",
              "      <td>0.000207</td>\n",
              "      <td>-0.008323</td>\n",
              "      <td>-0.001666</td>\n",
              "      <td>-0.001891</td>\n",
              "    </tr>\n",
              "    <tr>\n",
              "      <th>HbA1c</th>\n",
              "      <td>0.006189</td>\n",
              "      <td>0.005600</td>\n",
              "      <td>0.001768</td>\n",
              "      <td>1.000000</td>\n",
              "      <td>-0.001143</td>\n",
              "      <td>-0.003240</td>\n",
              "      <td>0.002687</td>\n",
              "      <td>0.002138</td>\n",
              "    </tr>\n",
              "    <tr>\n",
              "      <th>Cholesterol_Level</th>\n",
              "      <td>-0.000582</td>\n",
              "      <td>-0.002994</td>\n",
              "      <td>0.000207</td>\n",
              "      <td>-0.001143</td>\n",
              "      <td>1.000000</td>\n",
              "      <td>0.001186</td>\n",
              "      <td>-0.006368</td>\n",
              "      <td>0.004065</td>\n",
              "    </tr>\n",
              "    <tr>\n",
              "      <th>Sleep_Hours</th>\n",
              "      <td>-0.000743</td>\n",
              "      <td>-0.002895</td>\n",
              "      <td>-0.008323</td>\n",
              "      <td>-0.003240</td>\n",
              "      <td>0.001186</td>\n",
              "      <td>1.000000</td>\n",
              "      <td>-0.002203</td>\n",
              "      <td>0.002309</td>\n",
              "    </tr>\n",
              "    <tr>\n",
              "      <th>Stress_Level</th>\n",
              "      <td>0.004517</td>\n",
              "      <td>-0.000203</td>\n",
              "      <td>-0.001666</td>\n",
              "      <td>0.002687</td>\n",
              "      <td>-0.006368</td>\n",
              "      <td>-0.002203</td>\n",
              "      <td>1.000000</td>\n",
              "      <td>0.001587</td>\n",
              "    </tr>\n",
              "    <tr>\n",
              "      <th>Screen_Time</th>\n",
              "      <td>0.000513</td>\n",
              "      <td>-0.005156</td>\n",
              "      <td>-0.001891</td>\n",
              "      <td>0.002138</td>\n",
              "      <td>0.004065</td>\n",
              "      <td>0.002309</td>\n",
              "      <td>0.001587</td>\n",
              "      <td>1.000000</td>\n",
              "    </tr>\n",
              "  </tbody>\n",
              "</table>\n",
              "</div>"
            ],
            "text/plain": [
              "                        Age       BMI  Fast_Food_Intake     HbA1c  \\\n",
              "Age                1.000000 -0.000482          0.006896  0.006189   \n",
              "BMI               -0.000482  1.000000         -0.002043  0.005600   \n",
              "Fast_Food_Intake   0.006896 -0.002043          1.000000  0.001768   \n",
              "HbA1c              0.006189  0.005600          0.001768  1.000000   \n",
              "Cholesterol_Level -0.000582 -0.002994          0.000207 -0.001143   \n",
              "Sleep_Hours       -0.000743 -0.002895         -0.008323 -0.003240   \n",
              "Stress_Level       0.004517 -0.000203         -0.001666  0.002687   \n",
              "Screen_Time        0.000513 -0.005156         -0.001891  0.002138   \n",
              "\n",
              "                   Cholesterol_Level  Sleep_Hours  Stress_Level  Screen_Time  \n",
              "Age                        -0.000582    -0.000743      0.004517     0.000513  \n",
              "BMI                        -0.002994    -0.002895     -0.000203    -0.005156  \n",
              "Fast_Food_Intake            0.000207    -0.008323     -0.001666    -0.001891  \n",
              "HbA1c                      -0.001143    -0.003240      0.002687     0.002138  \n",
              "Cholesterol_Level           1.000000     0.001186     -0.006368     0.004065  \n",
              "Sleep_Hours                 0.001186     1.000000     -0.002203     0.002309  \n",
              "Stress_Level               -0.006368    -0.002203      1.000000     0.001587  \n",
              "Screen_Time                 0.004065     0.002309      0.001587     1.000000  "
            ]
          },
          "execution_count": 24,
          "metadata": {},
          "output_type": "execute_result"
        }
      ],
      "source": [
        "   # Correlating data analysis\n",
        "diabetes_df.corr()\n",
        "      "
      ]
    },
    {
      "cell_type": "code",
      "execution_count": null,
      "metadata": {},
      "outputs": [],
      "source": [
        "# Creating a diabetes_outcome column based on HbA1c levels \n",
        "diabetes_df['Diabetes_Outcome'] = diabetes_df['HbA1c'].apply(lambda x: 'Positive' if x >= 6.5 else x= <= 'Negative')"
      ]
    },
    {
      "cell_type": "markdown",
      "metadata": {
        "id": "ZY3l0-AxO93d"
      },
      "source": [
        "---"
      ]
    },
    {
      "cell_type": "markdown",
      "metadata": {},
      "source": [
        "# Data Visualisation"
      ]
    },
    {
      "cell_type": "code",
      "execution_count": 26,
      "metadata": {},
      "outputs": [
        {
          "ename": "ValueError",
          "evalue": "Value of 'color' is not the name of a column in 'data_frame'. Expected one of ['Age', 'Gender', 'Region', 'BMI', 'Physical_Activity_Level', 'Dietary_Habits', 'Fast_Food_Intake', 'Smoking', 'Alcohol_Consumption', 'HbA1c', 'Cholesterol_Level', 'Prediabetes', 'Diabetes_Type', 'Sleep_Hours', 'Stress_Level', 'Screen_Time'] but received: diabetes_outcome",
          "output_type": "error",
          "traceback": [
            "\u001b[0;31m---------------------------------------------------------------------------\u001b[0m",
            "\u001b[0;31mValueError\u001b[0m                                Traceback (most recent call last)",
            "Cell \u001b[0;32mIn[26], line 2\u001b[0m\n\u001b[1;32m      1\u001b[0m \u001b[38;5;66;03m# Fast Food Intake vs. Diabetes Outcome \u001b[39;00m\n\u001b[0;32m----> 2\u001b[0m fig_fast_food \u001b[38;5;241m=\u001b[39m \u001b[43mpx\u001b[49m\u001b[38;5;241;43m.\u001b[39;49m\u001b[43mhistogram\u001b[49m\u001b[43m(\u001b[49m\u001b[43mdiabetes_df\u001b[49m\u001b[43m,\u001b[49m\u001b[43m \u001b[49m\n\u001b[1;32m      3\u001b[0m \u001b[43m                             \u001b[49m\u001b[43mx\u001b[49m\u001b[38;5;241;43m=\u001b[39;49m\u001b[38;5;124;43m'\u001b[39;49m\u001b[38;5;124;43mFast_Food_Intake\u001b[39;49m\u001b[38;5;124;43m'\u001b[39;49m\u001b[43m,\u001b[49m\u001b[43m \u001b[49m\n\u001b[1;32m      4\u001b[0m \u001b[43m                             \u001b[49m\u001b[43mcolor\u001b[49m\u001b[38;5;241;43m=\u001b[39;49m\u001b[38;5;124;43m'\u001b[39;49m\u001b[38;5;124;43mdiabetes_outcome\u001b[39;49m\u001b[38;5;124;43m'\u001b[39;49m\u001b[43m,\u001b[49m\u001b[43m \u001b[49m\n\u001b[1;32m      5\u001b[0m \u001b[43m                             \u001b[49m\u001b[43mtitle\u001b[49m\u001b[38;5;241;43m=\u001b[39;49m\u001b[38;5;124;43m'\u001b[39;49m\u001b[38;5;124;43mFast Food Intake vs. Diabetes Outcome\u001b[39;49m\u001b[38;5;124;43m'\u001b[39;49m\u001b[43m,\u001b[49m\u001b[43m \u001b[49m\n\u001b[1;32m      6\u001b[0m \u001b[43m                             \u001b[49m\u001b[43mlabels\u001b[49m\u001b[38;5;241;43m=\u001b[39;49m\u001b[43m{\u001b[49m\u001b[38;5;124;43m'\u001b[39;49m\u001b[38;5;124;43mFast_Food_Intake\u001b[39;49m\u001b[38;5;124;43m'\u001b[39;49m\u001b[43m:\u001b[49m\u001b[43m \u001b[49m\u001b[38;5;124;43m'\u001b[39;49m\u001b[38;5;124;43mFast Food Intake\u001b[39;49m\u001b[38;5;124;43m'\u001b[39;49m\u001b[43m,\u001b[49m\u001b[43m \u001b[49m\n\u001b[1;32m      7\u001b[0m \u001b[43m                             \u001b[49m\u001b[38;5;124;43m'\u001b[39;49m\u001b[38;5;124;43mdiabetes_outcome\u001b[39;49m\u001b[38;5;124;43m'\u001b[39;49m\u001b[43m:\u001b[49m\u001b[43m \u001b[49m\u001b[38;5;124;43m'\u001b[39;49m\u001b[38;5;124;43mDiabetes Outcome\u001b[39;49m\u001b[38;5;124;43m'\u001b[39;49m\u001b[43m}\u001b[49m\u001b[43m)\u001b[49m \n\u001b[1;32m      8\u001b[0m fig_fast_food\u001b[38;5;241m.\u001b[39mshow() \n\u001b[1;32m     10\u001b[0m \u001b[38;5;66;03m# Smoking vs. Diabetes Outcome \u001b[39;00m\n",
            "File \u001b[0;32m/workspace/.pip-modules/lib/python3.9/site-packages/plotly/express/_chart_types.py:450\u001b[0m, in \u001b[0;36mhistogram\u001b[0;34m(data_frame, x, y, color, facet_row, facet_col, facet_col_wrap, facet_row_spacing, facet_col_spacing, hover_name, hover_data, animation_frame, animation_group, category_orders, labels, color_discrete_sequence, color_discrete_map, marginal, opacity, orientation, barmode, barnorm, histnorm, log_x, log_y, range_x, range_y, histfunc, cumulative, nbins, title, template, width, height)\u001b[0m\n\u001b[1;32m    408\u001b[0m \u001b[38;5;28;01mdef\u001b[39;00m\u001b[38;5;250m \u001b[39m\u001b[38;5;21mhistogram\u001b[39m(\n\u001b[1;32m    409\u001b[0m     data_frame\u001b[38;5;241m=\u001b[39m\u001b[38;5;28;01mNone\u001b[39;00m,\n\u001b[1;32m    410\u001b[0m     x\u001b[38;5;241m=\u001b[39m\u001b[38;5;28;01mNone\u001b[39;00m,\n\u001b[0;32m   (...)\u001b[0m\n\u001b[1;32m    442\u001b[0m     height\u001b[38;5;241m=\u001b[39m\u001b[38;5;28;01mNone\u001b[39;00m,\n\u001b[1;32m    443\u001b[0m ):\n\u001b[1;32m    444\u001b[0m \u001b[38;5;250m    \u001b[39m\u001b[38;5;124;03m\"\"\"\u001b[39;00m\n\u001b[1;32m    445\u001b[0m \u001b[38;5;124;03m    In a histogram, rows of `data_frame` are grouped together into a\u001b[39;00m\n\u001b[1;32m    446\u001b[0m \u001b[38;5;124;03m    rectangular mark to visualize the 1D distribution of an aggregate\u001b[39;00m\n\u001b[1;32m    447\u001b[0m \u001b[38;5;124;03m    function `histfunc` (e.g. the count or sum) of the value `y` (or `x` if\u001b[39;00m\n\u001b[1;32m    448\u001b[0m \u001b[38;5;124;03m    `orientation` is `'h'`).\u001b[39;00m\n\u001b[1;32m    449\u001b[0m \u001b[38;5;124;03m    \"\"\"\u001b[39;00m\n\u001b[0;32m--> 450\u001b[0m     \u001b[38;5;28;01mreturn\u001b[39;00m \u001b[43mmake_figure\u001b[49m\u001b[43m(\u001b[49m\n\u001b[1;32m    451\u001b[0m \u001b[43m        \u001b[49m\u001b[43margs\u001b[49m\u001b[38;5;241;43m=\u001b[39;49m\u001b[38;5;28;43mlocals\u001b[39;49m\u001b[43m(\u001b[49m\u001b[43m)\u001b[49m\u001b[43m,\u001b[49m\n\u001b[1;32m    452\u001b[0m \u001b[43m        \u001b[49m\u001b[43mconstructor\u001b[49m\u001b[38;5;241;43m=\u001b[39;49m\u001b[43mgo\u001b[49m\u001b[38;5;241;43m.\u001b[39;49m\u001b[43mHistogram\u001b[49m\u001b[43m,\u001b[49m\n\u001b[1;32m    453\u001b[0m \u001b[43m        \u001b[49m\u001b[43mtrace_patch\u001b[49m\u001b[38;5;241;43m=\u001b[39;49m\u001b[38;5;28;43mdict\u001b[39;49m\u001b[43m(\u001b[49m\n\u001b[1;32m    454\u001b[0m \u001b[43m            \u001b[49m\u001b[43mhistnorm\u001b[49m\u001b[38;5;241;43m=\u001b[39;49m\u001b[43mhistnorm\u001b[49m\u001b[43m,\u001b[49m\u001b[43m \u001b[49m\u001b[43mhistfunc\u001b[49m\u001b[38;5;241;43m=\u001b[39;49m\u001b[43mhistfunc\u001b[49m\u001b[43m,\u001b[49m\u001b[43m \u001b[49m\u001b[43mcumulative\u001b[49m\u001b[38;5;241;43m=\u001b[39;49m\u001b[38;5;28;43mdict\u001b[39;49m\u001b[43m(\u001b[49m\u001b[43menabled\u001b[49m\u001b[38;5;241;43m=\u001b[39;49m\u001b[43mcumulative\u001b[49m\u001b[43m)\u001b[49m\u001b[43m,\u001b[49m\n\u001b[1;32m    455\u001b[0m \u001b[43m        \u001b[49m\u001b[43m)\u001b[49m\u001b[43m,\u001b[49m\n\u001b[1;32m    456\u001b[0m \u001b[43m        \u001b[49m\u001b[43mlayout_patch\u001b[49m\u001b[38;5;241;43m=\u001b[39;49m\u001b[38;5;28;43mdict\u001b[39;49m\u001b[43m(\u001b[49m\u001b[43mbarmode\u001b[49m\u001b[38;5;241;43m=\u001b[39;49m\u001b[43mbarmode\u001b[49m\u001b[43m,\u001b[49m\u001b[43m \u001b[49m\u001b[43mbarnorm\u001b[49m\u001b[38;5;241;43m=\u001b[39;49m\u001b[43mbarnorm\u001b[49m\u001b[43m)\u001b[49m\u001b[43m,\u001b[49m\n\u001b[1;32m    457\u001b[0m \u001b[43m    \u001b[49m\u001b[43m)\u001b[49m\n",
            "File \u001b[0;32m/workspace/.pip-modules/lib/python3.9/site-packages/plotly/express/_core.py:1826\u001b[0m, in \u001b[0;36mmake_figure\u001b[0;34m(args, constructor, trace_patch, layout_patch)\u001b[0m\n\u001b[1;32m   1823\u001b[0m layout_patch \u001b[38;5;241m=\u001b[39m layout_patch \u001b[38;5;129;01mor\u001b[39;00m {}\n\u001b[1;32m   1824\u001b[0m apply_default_cascade(args)\n\u001b[0;32m-> 1826\u001b[0m args \u001b[38;5;241m=\u001b[39m \u001b[43mbuild_dataframe\u001b[49m\u001b[43m(\u001b[49m\u001b[43margs\u001b[49m\u001b[43m,\u001b[49m\u001b[43m \u001b[49m\u001b[43mconstructor\u001b[49m\u001b[43m)\u001b[49m\n\u001b[1;32m   1827\u001b[0m \u001b[38;5;28;01mif\u001b[39;00m constructor \u001b[38;5;129;01min\u001b[39;00m [go\u001b[38;5;241m.\u001b[39mTreemap, go\u001b[38;5;241m.\u001b[39mSunburst] \u001b[38;5;129;01mand\u001b[39;00m args[\u001b[38;5;124m\"\u001b[39m\u001b[38;5;124mpath\u001b[39m\u001b[38;5;124m\"\u001b[39m] \u001b[38;5;129;01mis\u001b[39;00m \u001b[38;5;129;01mnot\u001b[39;00m \u001b[38;5;28;01mNone\u001b[39;00m:\n\u001b[1;32m   1828\u001b[0m     args \u001b[38;5;241m=\u001b[39m process_dataframe_hierarchy(args)\n",
            "File \u001b[0;32m/workspace/.pip-modules/lib/python3.9/site-packages/plotly/express/_core.py:1358\u001b[0m, in \u001b[0;36mbuild_dataframe\u001b[0;34m(args, constructor)\u001b[0m\n\u001b[1;32m   1355\u001b[0m     args[\u001b[38;5;124m\"\u001b[39m\u001b[38;5;124mcolor\u001b[39m\u001b[38;5;124m\"\u001b[39m] \u001b[38;5;241m=\u001b[39m \u001b[38;5;28;01mNone\u001b[39;00m\n\u001b[1;32m   1356\u001b[0m \u001b[38;5;66;03m# now that things have been prepped, we do the systematic rewriting of `args`\u001b[39;00m\n\u001b[0;32m-> 1358\u001b[0m df_output, wide_id_vars \u001b[38;5;241m=\u001b[39m \u001b[43mprocess_args_into_dataframe\u001b[49m\u001b[43m(\u001b[49m\n\u001b[1;32m   1359\u001b[0m \u001b[43m    \u001b[49m\u001b[43margs\u001b[49m\u001b[43m,\u001b[49m\u001b[43m \u001b[49m\u001b[43mwide_mode\u001b[49m\u001b[43m,\u001b[49m\u001b[43m \u001b[49m\u001b[43mvar_name\u001b[49m\u001b[43m,\u001b[49m\u001b[43m \u001b[49m\u001b[43mvalue_name\u001b[49m\n\u001b[1;32m   1360\u001b[0m \u001b[43m\u001b[49m\u001b[43m)\u001b[49m\n\u001b[1;32m   1362\u001b[0m \u001b[38;5;66;03m# now that `df_output` exists and `args` contains only references, we complete\u001b[39;00m\n\u001b[1;32m   1363\u001b[0m \u001b[38;5;66;03m# the special-case and wide-mode handling by further rewriting args and/or mutating\u001b[39;00m\n\u001b[1;32m   1364\u001b[0m \u001b[38;5;66;03m# df_output\u001b[39;00m\n\u001b[1;32m   1366\u001b[0m count_name \u001b[38;5;241m=\u001b[39m _escape_col_name(df_output, \u001b[38;5;124m\"\u001b[39m\u001b[38;5;124mcount\u001b[39m\u001b[38;5;124m\"\u001b[39m, [var_name, value_name])\n",
            "File \u001b[0;32m/workspace/.pip-modules/lib/python3.9/site-packages/plotly/express/_core.py:1164\u001b[0m, in \u001b[0;36mprocess_args_into_dataframe\u001b[0;34m(args, wide_mode, var_name, value_name)\u001b[0m\n\u001b[1;32m   1162\u001b[0m         \u001b[38;5;28;01mif\u001b[39;00m argument \u001b[38;5;241m==\u001b[39m \u001b[38;5;124m\"\u001b[39m\u001b[38;5;124mindex\u001b[39m\u001b[38;5;124m\"\u001b[39m:\n\u001b[1;32m   1163\u001b[0m             err_msg \u001b[38;5;241m+\u001b[39m\u001b[38;5;241m=\u001b[39m \u001b[38;5;124m\"\u001b[39m\u001b[38;5;130;01m\\n\u001b[39;00m\u001b[38;5;124m To use the index, pass it in directly as `df.index`.\u001b[39m\u001b[38;5;124m\"\u001b[39m\n\u001b[0;32m-> 1164\u001b[0m         \u001b[38;5;28;01mraise\u001b[39;00m \u001b[38;5;167;01mValueError\u001b[39;00m(err_msg)\n\u001b[1;32m   1165\u001b[0m \u001b[38;5;28;01melif\u001b[39;00m length \u001b[38;5;129;01mand\u001b[39;00m \u001b[38;5;28mlen\u001b[39m(df_input[argument]) \u001b[38;5;241m!=\u001b[39m length:\n\u001b[1;32m   1166\u001b[0m     \u001b[38;5;28;01mraise\u001b[39;00m \u001b[38;5;167;01mValueError\u001b[39;00m(\n\u001b[1;32m   1167\u001b[0m         \u001b[38;5;124m\"\u001b[39m\u001b[38;5;124mAll arguments should have the same length. \u001b[39m\u001b[38;5;124m\"\u001b[39m\n\u001b[1;32m   1168\u001b[0m         \u001b[38;5;124m\"\u001b[39m\u001b[38;5;124mThe length of column argument `df[\u001b[39m\u001b[38;5;132;01m%s\u001b[39;00m\u001b[38;5;124m]` is \u001b[39m\u001b[38;5;132;01m%d\u001b[39;00m\u001b[38;5;124m, whereas the \u001b[39m\u001b[38;5;124m\"\u001b[39m\n\u001b[0;32m   (...)\u001b[0m\n\u001b[1;32m   1175\u001b[0m         )\n\u001b[1;32m   1176\u001b[0m     )\n",
            "\u001b[0;31mValueError\u001b[0m: Value of 'color' is not the name of a column in 'data_frame'. Expected one of ['Age', 'Gender', 'Region', 'BMI', 'Physical_Activity_Level', 'Dietary_Habits', 'Fast_Food_Intake', 'Smoking', 'Alcohol_Consumption', 'HbA1c', 'Cholesterol_Level', 'Prediabetes', 'Diabetes_Type', 'Sleep_Hours', 'Stress_Level', 'Screen_Time'] but received: diabetes_outcome"
          ]
        }
      ],
      "source": [
        "# Fast Food Intake vs. Diabetes Outcome \n",
        "fig_fast_food = px.histogram(diabetes_df, \n",
        "                             x='Fast_Food_Intake', \n",
        "                             color='diabetes_outcome', \n",
        "                             title='Fast Food Intake vs. Diabetes Outcome', \n",
        "                             labels={'Fast_Food_Intake': 'Fast Food Intake', \n",
        "                             'diabetes_outcome': 'Diabetes Outcome'}) \n",
        "fig_fast_food.show() \n",
        "\n",
        "# Smoking vs. Diabetes Outcome \n",
        "fig_smoking = px.histogram(diabetes_df, \n",
        "                           x='Smoking', \n",
        "                           color='diabetes_outcome', \n",
        "                           title='Smoking vs. Diabetes Outcome', \n",
        "                           labels={'Smoking': 'Smoking', 'diabetes_outcome': 'Diabetes Outcome'}) \n",
        "fig_smoking.show()\n",
        "\n",
        "# Alcohol Consumption vs. Diabetes Outcome \n",
        "fig_alcohol = px.histogram(diabetes_df, \n",
        "                           x='Alcohol_consumption', \n",
        "                           color='diabetes_outcome', \n",
        "                           title='Alcohol Consumption vs. Diabetes Outcome', \n",
        "                           labels={'Alcohol_Consumption': 'Alcohol Consumption', \n",
        "                           'diabetes_outcome': 'Diabetes Outcome'}) \n",
        "# fig_alcohol.show()"
      ]
    },
    {
      "cell_type": "markdown",
      "metadata": {},
      "source": [
        "---"
      ]
    },
    {
      "cell_type": "markdown",
      "metadata": {},
      "source": [
        "NOTE"
      ]
    },
    {
      "cell_type": "markdown",
      "metadata": {},
      "source": [
        "* You may add as many sections as you want, as long as it supports your project workflow.\n",
        "* All notebook's cells should be run top-down (you can't create a dynamic wherein a given point you need to go back to a previous cell to execute some task, like go back to a previous cell and refresh a variable content)"
      ]
    },
    {
      "cell_type": "markdown",
      "metadata": {},
      "source": [
        "---"
      ]
    },
    {
      "cell_type": "markdown",
      "metadata": {
        "id": "ltNetd085qHf"
      },
      "source": [
        "# Push files to Repo"
      ]
    },
    {
      "cell_type": "markdown",
      "metadata": {},
      "source": [
        "* In cases where you don't need to push files to Repo, you may replace this section with \"Conclusions and Next Steps\" and state your conclusions and next steps."
      ]
    },
    {
      "cell_type": "code",
      "execution_count": 18,
      "metadata": {
        "id": "aKlnIozA4eQO",
        "outputId": "fd09bc1f-adb1-4511-f6ce-492a6af570c0"
      },
      "outputs": [
        {
          "ename": "IndentationError",
          "evalue": "expected an indented block (553063055.py, line 5)",
          "output_type": "error",
          "traceback": [
            "\u001b[0;36m  Cell \u001b[0;32mIn[18], line 5\u001b[0;36m\u001b[0m\n\u001b[0;31m    except Exception as e:\u001b[0m\n\u001b[0m    ^\u001b[0m\n\u001b[0;31mIndentationError\u001b[0m\u001b[0;31m:\u001b[0m expected an indented block\n"
          ]
        }
      ],
      "source": [
        "import os\n",
        "try:\n",
        "  # create your folder here\n",
        "  # os.makedirs(name='')\n",
        "except Exception as e:\n",
        "  print(e)\n"
      ]
    }
  ],
  "metadata": {
    "accelerator": "GPU",
    "colab": {
      "name": "Data Practitioner Jupyter Notebook.ipynb",
      "provenance": [],
      "toc_visible": true
    },
    "kernelspec": {
      "display_name": "Python 3",
      "language": "python",
      "name": "python3"
    },
    "language_info": {
      "codemirror_mode": {
        "name": "ipython",
        "version": 3
      },
      "file_extension": ".py",
      "mimetype": "text/x-python",
      "name": "python",
      "nbconvert_exporter": "python",
      "pygments_lexer": "ipython3",
      "version": "3.9.20"
    },
    "orig_nbformat": 2
  },
  "nbformat": 4,
  "nbformat_minor": 2
}
