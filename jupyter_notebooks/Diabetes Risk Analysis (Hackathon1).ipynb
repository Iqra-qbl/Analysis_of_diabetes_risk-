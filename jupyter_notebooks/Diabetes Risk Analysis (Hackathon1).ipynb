{
  "cells": [
    {
      "cell_type": "markdown",
      "metadata": {
        "id": "0aStgWSO0E0E"
      },
      "source": [
        "# **Analysis of Diabetes Risk in India**"
      ]
    },
    {
      "cell_type": "markdown",
      "metadata": {
        "id": "1eLEkw5O0ECa"
      },
      "source": [
        "## Objectives\n",
        "\n",
        "* Crate a comprehensive data analysis tool designed for medical professionals to streamline data exploration, analysis, and visualisation to analyze behavioural insights and impact of lifestyle factors on diabetes risk in India.\n",
        "\n",
        "## Inputs\n",
        "\n",
        "* Data source: https://www.kaggle.com/datasets/ankushpanday1/diabetes-in-youth-vs-adult-in-india\n",
        "\n",
        "\n",
        "## Outputs\n",
        "\n",
        "* Write here which files, code or artefacts you generate by the end of the notebook \n",
        "\n",
        "## Additional Comments\n",
        "\n",
        "* If you have any additional comments that don't fit in the previous bullets, please state them here. \n",
        "\n"
      ]
    },
    {
      "cell_type": "markdown",
      "metadata": {
        "id": "9uWZXH9LwoQg"
      },
      "source": [
        "---"
      ]
    },
    {
      "cell_type": "markdown",
      "metadata": {
        "id": "cqP-UeN-z3i2"
      },
      "source": [
        "# Change working directory"
      ]
    },
    {
      "cell_type": "markdown",
      "metadata": {},
      "source": [
        "* We are assuming you will store the notebooks in a subfolder, therefore when running the notebook in the editor, you will need to change the working directory"
      ]
    },
    {
      "cell_type": "markdown",
      "metadata": {
        "id": "aOGIGS-uz3i2"
      },
      "source": [
        "We need to change the working directory from its current folder to its parent folder\n",
        "* We access the current directory with os.getcwd()"
      ]
    },
    {
      "cell_type": "code",
      "execution_count": 19,
      "metadata": {},
      "outputs": [
        {
          "data": {
            "text/plain": [
              "'/workspace/Analysis_of_diabetes_risk-/jupyter_notebooks'"
            ]
          },
          "execution_count": 19,
          "metadata": {},
          "output_type": "execute_result"
        }
      ],
      "source": [
        "import os\n",
        "current_dir = os.getcwd()\n",
        "current_dir"
      ]
    },
    {
      "cell_type": "markdown",
      "metadata": {
        "id": "9MWW8E7lz3i7"
      },
      "source": [
        "We want to make the parent of the current directory the new current directory\n",
        "* os.path.dirname() gets the parent directory\n",
        "* os.chir() defines the new current directory"
      ]
    },
    {
      "cell_type": "code",
      "execution_count": 20,
      "metadata": {},
      "outputs": [
        {
          "name": "stdout",
          "output_type": "stream",
          "text": [
            "You set a new current directory\n"
          ]
        }
      ],
      "source": [
        "os.chdir(os.path.dirname(current_dir))\n",
        "print(\"You set a new current directory\")"
      ]
    },
    {
      "cell_type": "markdown",
      "metadata": {},
      "source": [
        "Confirm new directory"
      ]
    },
    {
      "cell_type": "code",
      "execution_count": 21,
      "metadata": {},
      "outputs": [
        {
          "data": {
            "text/plain": [
              "'/workspace/Analysis_of_diabetes_risk-'"
            ]
          },
          "execution_count": 21,
          "metadata": {},
          "output_type": "execute_result"
        }
      ],
      "source": [
        "current_dir = os.getcwd()\n",
        "current_dir"
      ]
    },
    {
      "cell_type": "markdown",
      "metadata": {
        "id": "-mavJ8DibrcQ"
      },
      "source": [
        "# Section 1 :  Data Extraction, Transformation, and Loading (ETL) "
      ]
    },
    {
      "cell_type": "code",
      "execution_count": 1,
      "metadata": {},
      "outputs": [],
      "source": [
        "# Setting up & Importing packages\n",
        "import numpy as np\n",
        "import matplotlib.pyplot as plt\n",
        "import seaborn as sns\n",
        "import pandas as pd\n",
        "sns.set_style('whitegrid')\n",
        "from sklearn.pipeline import Pipeline\n",
        "import plotly.express as px"
      ]
    },
    {
      "cell_type": "code",
      "execution_count": 22,
      "metadata": {},
      "outputs": [],
      "source": [
        "# Loading the dataset\n",
        "diabetes_df= pd.read_csv('diabetes young adults india.csv')"
      ]
    },
    {
      "cell_type": "code",
      "execution_count": null,
      "metadata": {},
      "outputs": [
        {
          "data": {
            "text/html": [
              "<div>\n",
              "<style scoped>\n",
              "    .dataframe tbody tr th:only-of-type {\n",
              "        vertical-align: middle;\n",
              "    }\n",
              "\n",
              "    .dataframe tbody tr th {\n",
              "        vertical-align: top;\n",
              "    }\n",
              "\n",
              "    .dataframe thead th {\n",
              "        text-align: right;\n",
              "    }\n",
              "</style>\n",
              "<table border=\"1\" class=\"dataframe\">\n",
              "  <thead>\n",
              "    <tr style=\"text-align: right;\">\n",
              "      <th></th>\n",
              "      <th>ID</th>\n",
              "      <th>Age</th>\n",
              "      <th>Gender</th>\n",
              "      <th>Region</th>\n",
              "      <th>Family_Income</th>\n",
              "      <th>Family_History_Diabetes</th>\n",
              "      <th>Parent_Diabetes_Type</th>\n",
              "      <th>Genetic_Risk_Score</th>\n",
              "      <th>BMI</th>\n",
              "      <th>Physical_Activity_Level</th>\n",
              "      <th>...</th>\n",
              "      <th>Smoking</th>\n",
              "      <th>Alcohol_Consumption</th>\n",
              "      <th>Fasting_Blood_Sugar</th>\n",
              "      <th>HbA1c</th>\n",
              "      <th>Cholesterol_Level</th>\n",
              "      <th>Prediabetes</th>\n",
              "      <th>Diabetes_Type</th>\n",
              "      <th>Sleep_Hours</th>\n",
              "      <th>Stress_Level</th>\n",
              "      <th>Screen_Time</th>\n",
              "    </tr>\n",
              "  </thead>\n",
              "  <tbody>\n",
              "    <tr>\n",
              "      <th>0</th>\n",
              "      <td>1</td>\n",
              "      <td>21</td>\n",
              "      <td>Male</td>\n",
              "      <td>North</td>\n",
              "      <td>2209393</td>\n",
              "      <td>No</td>\n",
              "      <td>None</td>\n",
              "      <td>6</td>\n",
              "      <td>31.4</td>\n",
              "      <td>Sedentary</td>\n",
              "      <td>...</td>\n",
              "      <td>Yes</td>\n",
              "      <td>No</td>\n",
              "      <td>95.6</td>\n",
              "      <td>9.5</td>\n",
              "      <td>163.3</td>\n",
              "      <td>Yes</td>\n",
              "      <td>None</td>\n",
              "      <td>7.7</td>\n",
              "      <td>7</td>\n",
              "      <td>6.8</td>\n",
              "    </tr>\n",
              "    <tr>\n",
              "      <th>1</th>\n",
              "      <td>2</td>\n",
              "      <td>18</td>\n",
              "      <td>Female</td>\n",
              "      <td>Central</td>\n",
              "      <td>387650</td>\n",
              "      <td>No</td>\n",
              "      <td>None</td>\n",
              "      <td>5</td>\n",
              "      <td>24.4</td>\n",
              "      <td>Active</td>\n",
              "      <td>...</td>\n",
              "      <td>No</td>\n",
              "      <td>No</td>\n",
              "      <td>164.9</td>\n",
              "      <td>5.0</td>\n",
              "      <td>169.1</td>\n",
              "      <td>Yes</td>\n",
              "      <td>None</td>\n",
              "      <td>7.9</td>\n",
              "      <td>8</td>\n",
              "      <td>6.0</td>\n",
              "    </tr>\n",
              "    <tr>\n",
              "      <th>2</th>\n",
              "      <td>3</td>\n",
              "      <td>25</td>\n",
              "      <td>Male</td>\n",
              "      <td>North</td>\n",
              "      <td>383333</td>\n",
              "      <td>No</td>\n",
              "      <td>None</td>\n",
              "      <td>6</td>\n",
              "      <td>20.0</td>\n",
              "      <td>Moderate</td>\n",
              "      <td>...</td>\n",
              "      <td>No</td>\n",
              "      <td>No</td>\n",
              "      <td>110.5</td>\n",
              "      <td>8.3</td>\n",
              "      <td>296.3</td>\n",
              "      <td>Yes</td>\n",
              "      <td>Type 1</td>\n",
              "      <td>7.6</td>\n",
              "      <td>8</td>\n",
              "      <td>4.6</td>\n",
              "    </tr>\n",
              "    <tr>\n",
              "      <th>3</th>\n",
              "      <td>4</td>\n",
              "      <td>22</td>\n",
              "      <td>Male</td>\n",
              "      <td>Northeast</td>\n",
              "      <td>2443733</td>\n",
              "      <td>No</td>\n",
              "      <td>None</td>\n",
              "      <td>4</td>\n",
              "      <td>39.8</td>\n",
              "      <td>Moderate</td>\n",
              "      <td>...</td>\n",
              "      <td>No</td>\n",
              "      <td>Yes</td>\n",
              "      <td>160.7</td>\n",
              "      <td>4.6</td>\n",
              "      <td>252.8</td>\n",
              "      <td>No</td>\n",
              "      <td>None</td>\n",
              "      <td>9.5</td>\n",
              "      <td>2</td>\n",
              "      <td>10.9</td>\n",
              "    </tr>\n",
              "    <tr>\n",
              "      <th>4</th>\n",
              "      <td>5</td>\n",
              "      <td>19</td>\n",
              "      <td>Male</td>\n",
              "      <td>Central</td>\n",
              "      <td>1449463</td>\n",
              "      <td>No</td>\n",
              "      <td>None</td>\n",
              "      <td>4</td>\n",
              "      <td>19.2</td>\n",
              "      <td>Moderate</td>\n",
              "      <td>...</td>\n",
              "      <td>No</td>\n",
              "      <td>Yes</td>\n",
              "      <td>73.7</td>\n",
              "      <td>5.3</td>\n",
              "      <td>252.3</td>\n",
              "      <td>No</td>\n",
              "      <td>None</td>\n",
              "      <td>6.4</td>\n",
              "      <td>2</td>\n",
              "      <td>1.3</td>\n",
              "    </tr>\n",
              "    <tr>\n",
              "      <th>5</th>\n",
              "      <td>6</td>\n",
              "      <td>21</td>\n",
              "      <td>Female</td>\n",
              "      <td>Central</td>\n",
              "      <td>2142229</td>\n",
              "      <td>Yes</td>\n",
              "      <td>None</td>\n",
              "      <td>3</td>\n",
              "      <td>36.4</td>\n",
              "      <td>Active</td>\n",
              "      <td>...</td>\n",
              "      <td>No</td>\n",
              "      <td>No</td>\n",
              "      <td>78.9</td>\n",
              "      <td>4.7</td>\n",
              "      <td>249.0</td>\n",
              "      <td>Yes</td>\n",
              "      <td>Type 2</td>\n",
              "      <td>4.0</td>\n",
              "      <td>3</td>\n",
              "      <td>5.2</td>\n",
              "    </tr>\n",
              "    <tr>\n",
              "      <th>6</th>\n",
              "      <td>7</td>\n",
              "      <td>24</td>\n",
              "      <td>Female</td>\n",
              "      <td>North</td>\n",
              "      <td>2357529</td>\n",
              "      <td>No</td>\n",
              "      <td>Type 2</td>\n",
              "      <td>7</td>\n",
              "      <td>39.0</td>\n",
              "      <td>Moderate</td>\n",
              "      <td>...</td>\n",
              "      <td>No</td>\n",
              "      <td>No</td>\n",
              "      <td>76.1</td>\n",
              "      <td>6.1</td>\n",
              "      <td>198.4</td>\n",
              "      <td>Yes</td>\n",
              "      <td>Type 2</td>\n",
              "      <td>4.0</td>\n",
              "      <td>9</td>\n",
              "      <td>4.9</td>\n",
              "    </tr>\n",
              "    <tr>\n",
              "      <th>7</th>\n",
              "      <td>8</td>\n",
              "      <td>17</td>\n",
              "      <td>Male</td>\n",
              "      <td>East</td>\n",
              "      <td>2395436</td>\n",
              "      <td>No</td>\n",
              "      <td>None</td>\n",
              "      <td>1</td>\n",
              "      <td>24.5</td>\n",
              "      <td>Moderate</td>\n",
              "      <td>...</td>\n",
              "      <td>No</td>\n",
              "      <td>Yes</td>\n",
              "      <td>95.6</td>\n",
              "      <td>7.9</td>\n",
              "      <td>133.6</td>\n",
              "      <td>Yes</td>\n",
              "      <td>None</td>\n",
              "      <td>5.0</td>\n",
              "      <td>6</td>\n",
              "      <td>2.1</td>\n",
              "    </tr>\n",
              "    <tr>\n",
              "      <th>8</th>\n",
              "      <td>9</td>\n",
              "      <td>21</td>\n",
              "      <td>Female</td>\n",
              "      <td>East</td>\n",
              "      <td>1288764</td>\n",
              "      <td>No</td>\n",
              "      <td>Type 2</td>\n",
              "      <td>3</td>\n",
              "      <td>18.1</td>\n",
              "      <td>Sedentary</td>\n",
              "      <td>...</td>\n",
              "      <td>No</td>\n",
              "      <td>No</td>\n",
              "      <td>177.2</td>\n",
              "      <td>5.1</td>\n",
              "      <td>235.9</td>\n",
              "      <td>No</td>\n",
              "      <td>None</td>\n",
              "      <td>9.0</td>\n",
              "      <td>2</td>\n",
              "      <td>6.8</td>\n",
              "    </tr>\n",
              "    <tr>\n",
              "      <th>9</th>\n",
              "      <td>10</td>\n",
              "      <td>25</td>\n",
              "      <td>Female</td>\n",
              "      <td>North</td>\n",
              "      <td>127666</td>\n",
              "      <td>Yes</td>\n",
              "      <td>None</td>\n",
              "      <td>3</td>\n",
              "      <td>17.7</td>\n",
              "      <td>Sedentary</td>\n",
              "      <td>...</td>\n",
              "      <td>No</td>\n",
              "      <td>No</td>\n",
              "      <td>102.3</td>\n",
              "      <td>5.1</td>\n",
              "      <td>289.1</td>\n",
              "      <td>Yes</td>\n",
              "      <td>None</td>\n",
              "      <td>4.8</td>\n",
              "      <td>8</td>\n",
              "      <td>10.4</td>\n",
              "    </tr>\n",
              "    <tr>\n",
              "      <th>10</th>\n",
              "      <td>11</td>\n",
              "      <td>25</td>\n",
              "      <td>Male</td>\n",
              "      <td>Central</td>\n",
              "      <td>1117881</td>\n",
              "      <td>No</td>\n",
              "      <td>Type 1</td>\n",
              "      <td>5</td>\n",
              "      <td>25.0</td>\n",
              "      <td>Sedentary</td>\n",
              "      <td>...</td>\n",
              "      <td>No</td>\n",
              "      <td>Yes</td>\n",
              "      <td>107.7</td>\n",
              "      <td>4.4</td>\n",
              "      <td>169.4</td>\n",
              "      <td>No</td>\n",
              "      <td>None</td>\n",
              "      <td>6.3</td>\n",
              "      <td>10</td>\n",
              "      <td>8.6</td>\n",
              "    </tr>\n",
              "    <tr>\n",
              "      <th>11</th>\n",
              "      <td>12</td>\n",
              "      <td>22</td>\n",
              "      <td>Female</td>\n",
              "      <td>Central</td>\n",
              "      <td>1590594</td>\n",
              "      <td>No</td>\n",
              "      <td>None</td>\n",
              "      <td>2</td>\n",
              "      <td>23.6</td>\n",
              "      <td>Sedentary</td>\n",
              "      <td>...</td>\n",
              "      <td>No</td>\n",
              "      <td>No</td>\n",
              "      <td>127.9</td>\n",
              "      <td>5.9</td>\n",
              "      <td>221.8</td>\n",
              "      <td>No</td>\n",
              "      <td>None</td>\n",
              "      <td>7.3</td>\n",
              "      <td>3</td>\n",
              "      <td>9.0</td>\n",
              "    </tr>\n",
              "    <tr>\n",
              "      <th>12</th>\n",
              "      <td>13</td>\n",
              "      <td>19</td>\n",
              "      <td>Male</td>\n",
              "      <td>Northeast</td>\n",
              "      <td>359848</td>\n",
              "      <td>No</td>\n",
              "      <td>None</td>\n",
              "      <td>10</td>\n",
              "      <td>34.2</td>\n",
              "      <td>Sedentary</td>\n",
              "      <td>...</td>\n",
              "      <td>No</td>\n",
              "      <td>No</td>\n",
              "      <td>85.9</td>\n",
              "      <td>7.3</td>\n",
              "      <td>196.0</td>\n",
              "      <td>No</td>\n",
              "      <td>Type 2</td>\n",
              "      <td>6.1</td>\n",
              "      <td>2</td>\n",
              "      <td>11.7</td>\n",
              "    </tr>\n",
              "    <tr>\n",
              "      <th>13</th>\n",
              "      <td>14</td>\n",
              "      <td>18</td>\n",
              "      <td>Female</td>\n",
              "      <td>North</td>\n",
              "      <td>461642</td>\n",
              "      <td>No</td>\n",
              "      <td>Type 1</td>\n",
              "      <td>10</td>\n",
              "      <td>18.5</td>\n",
              "      <td>Sedentary</td>\n",
              "      <td>...</td>\n",
              "      <td>No</td>\n",
              "      <td>No</td>\n",
              "      <td>72.8</td>\n",
              "      <td>9.0</td>\n",
              "      <td>257.5</td>\n",
              "      <td>No</td>\n",
              "      <td>None</td>\n",
              "      <td>7.6</td>\n",
              "      <td>5</td>\n",
              "      <td>9.2</td>\n",
              "    </tr>\n",
              "    <tr>\n",
              "      <th>14</th>\n",
              "      <td>15</td>\n",
              "      <td>22</td>\n",
              "      <td>Male</td>\n",
              "      <td>East</td>\n",
              "      <td>287690</td>\n",
              "      <td>No</td>\n",
              "      <td>None</td>\n",
              "      <td>5</td>\n",
              "      <td>27.0</td>\n",
              "      <td>Moderate</td>\n",
              "      <td>...</td>\n",
              "      <td>Yes</td>\n",
              "      <td>No</td>\n",
              "      <td>127.5</td>\n",
              "      <td>9.0</td>\n",
              "      <td>210.2</td>\n",
              "      <td>No</td>\n",
              "      <td>None</td>\n",
              "      <td>5.0</td>\n",
              "      <td>3</td>\n",
              "      <td>9.0</td>\n",
              "    </tr>\n",
              "  </tbody>\n",
              "</table>\n",
              "<p>15 rows × 22 columns</p>\n",
              "</div>"
            ],
            "text/plain": [
              "    ID  Age  Gender     Region  Family_Income Family_History_Diabetes  \\\n",
              "0    1   21    Male      North        2209393                      No   \n",
              "1    2   18  Female    Central         387650                      No   \n",
              "2    3   25    Male      North         383333                      No   \n",
              "3    4   22    Male  Northeast        2443733                      No   \n",
              "4    5   19    Male    Central        1449463                      No   \n",
              "5    6   21  Female    Central        2142229                     Yes   \n",
              "6    7   24  Female      North        2357529                      No   \n",
              "7    8   17    Male       East        2395436                      No   \n",
              "8    9   21  Female       East        1288764                      No   \n",
              "9   10   25  Female      North         127666                     Yes   \n",
              "10  11   25    Male    Central        1117881                      No   \n",
              "11  12   22  Female    Central        1590594                      No   \n",
              "12  13   19    Male  Northeast         359848                      No   \n",
              "13  14   18  Female      North         461642                      No   \n",
              "14  15   22    Male       East         287690                      No   \n",
              "\n",
              "   Parent_Diabetes_Type  Genetic_Risk_Score   BMI Physical_Activity_Level  \\\n",
              "0                  None                   6  31.4               Sedentary   \n",
              "1                  None                   5  24.4                  Active   \n",
              "2                  None                   6  20.0                Moderate   \n",
              "3                  None                   4  39.8                Moderate   \n",
              "4                  None                   4  19.2                Moderate   \n",
              "5                  None                   3  36.4                  Active   \n",
              "6                Type 2                   7  39.0                Moderate   \n",
              "7                  None                   1  24.5                Moderate   \n",
              "8                Type 2                   3  18.1               Sedentary   \n",
              "9                  None                   3  17.7               Sedentary   \n",
              "10               Type 1                   5  25.0               Sedentary   \n",
              "11                 None                   2  23.6               Sedentary   \n",
              "12                 None                  10  34.2               Sedentary   \n",
              "13               Type 1                  10  18.5               Sedentary   \n",
              "14                 None                   5  27.0                Moderate   \n",
              "\n",
              "    ... Smoking  Alcohol_Consumption Fasting_Blood_Sugar HbA1c  \\\n",
              "0   ...     Yes                   No                95.6   9.5   \n",
              "1   ...      No                   No               164.9   5.0   \n",
              "2   ...      No                   No               110.5   8.3   \n",
              "3   ...      No                  Yes               160.7   4.6   \n",
              "4   ...      No                  Yes                73.7   5.3   \n",
              "5   ...      No                   No                78.9   4.7   \n",
              "6   ...      No                   No                76.1   6.1   \n",
              "7   ...      No                  Yes                95.6   7.9   \n",
              "8   ...      No                   No               177.2   5.1   \n",
              "9   ...      No                   No               102.3   5.1   \n",
              "10  ...      No                  Yes               107.7   4.4   \n",
              "11  ...      No                   No               127.9   5.9   \n",
              "12  ...      No                   No                85.9   7.3   \n",
              "13  ...      No                   No                72.8   9.0   \n",
              "14  ...     Yes                   No               127.5   9.0   \n",
              "\n",
              "    Cholesterol_Level  Prediabetes  Diabetes_Type Sleep_Hours Stress_Level  \\\n",
              "0               163.3          Yes           None         7.7            7   \n",
              "1               169.1          Yes           None         7.9            8   \n",
              "2               296.3          Yes         Type 1         7.6            8   \n",
              "3               252.8           No           None         9.5            2   \n",
              "4               252.3           No           None         6.4            2   \n",
              "5               249.0          Yes         Type 2         4.0            3   \n",
              "6               198.4          Yes         Type 2         4.0            9   \n",
              "7               133.6          Yes           None         5.0            6   \n",
              "8               235.9           No           None         9.0            2   \n",
              "9               289.1          Yes           None         4.8            8   \n",
              "10              169.4           No           None         6.3           10   \n",
              "11              221.8           No           None         7.3            3   \n",
              "12              196.0           No         Type 2         6.1            2   \n",
              "13              257.5           No           None         7.6            5   \n",
              "14              210.2           No           None         5.0            3   \n",
              "\n",
              "    Screen_Time  \n",
              "0           6.8  \n",
              "1           6.0  \n",
              "2           4.6  \n",
              "3          10.9  \n",
              "4           1.3  \n",
              "5           5.2  \n",
              "6           4.9  \n",
              "7           2.1  \n",
              "8           6.8  \n",
              "9          10.4  \n",
              "10          8.6  \n",
              "11          9.0  \n",
              "12         11.7  \n",
              "13          9.2  \n",
              "14          9.0  \n",
              "\n",
              "[15 rows x 22 columns]"
            ]
          },
          "execution_count": 23,
          "metadata": {},
          "output_type": "execute_result"
        }
      ],
      "source": [
        "#Preview of top 15 entries in dataset\n",
        "diabetes_df.head(15)"
      ]
    },
    {
      "cell_type": "code",
      "execution_count": 26,
      "metadata": {},
      "outputs": [
        {
          "data": {
            "text/plain": [
              "[Index(['ID', 'Age', 'Gender', 'Region', 'Family_Income',\n",
              "        'Family_History_Diabetes', 'Parent_Diabetes_Type', 'Genetic_Risk_Score',\n",
              "        'BMI', 'Physical_Activity_Level', 'Dietary_Habits', 'Fast_Food_Intake',\n",
              "        'Smoking', 'Alcohol_Consumption', 'Fasting_Blood_Sugar', 'HbA1c',\n",
              "        'Cholesterol_Level', 'Prediabetes', 'Diabetes_Type', 'Sleep_Hours',\n",
              "        'Stress_Level', 'Screen_Time'],\n",
              "       dtype='object')]"
            ]
          },
          "execution_count": 26,
          "metadata": {},
          "output_type": "execute_result"
        }
      ],
      "source": [
        "# Making a list of all Column names\n",
        "Df_cols= [diabetes_df.columns]\n",
        "Df_cols"
      ]
    },
    {
      "cell_type": "code",
      "execution_count": 27,
      "metadata": {},
      "outputs": [
        {
          "name": "stdout",
          "output_type": "stream",
          "text": [
            "There are 100000 rows and 22 columns in the Diabetes Dataframe.\n"
          ]
        }
      ],
      "source": [
        "# Total number of rows and columns in Diabetes dataframe\n",
        "diabetes_df.shape\n",
        "print(f\"There are {diabetes_df.shape[0]} rows and {diabetes_df.shape[1]} columns in the Diabetes Dataframe.\")"
      ]
    },
    {
      "cell_type": "code",
      "execution_count": 28,
      "metadata": {},
      "outputs": [
        {
          "name": "stdout",
          "output_type": "stream",
          "text": [
            "<class 'pandas.core.frame.DataFrame'>\n",
            "RangeIndex: 100000 entries, 0 to 99999\n",
            "Data columns (total 22 columns):\n",
            " #   Column                   Non-Null Count   Dtype  \n",
            "---  ------                   --------------   -----  \n",
            " 0   ID                       100000 non-null  int64  \n",
            " 1   Age                      100000 non-null  int64  \n",
            " 2   Gender                   100000 non-null  object \n",
            " 3   Region                   100000 non-null  object \n",
            " 4   Family_Income            100000 non-null  int64  \n",
            " 5   Family_History_Diabetes  100000 non-null  object \n",
            " 6   Parent_Diabetes_Type     100000 non-null  object \n",
            " 7   Genetic_Risk_Score       100000 non-null  int64  \n",
            " 8   BMI                      100000 non-null  float64\n",
            " 9   Physical_Activity_Level  100000 non-null  object \n",
            " 10  Dietary_Habits           100000 non-null  object \n",
            " 11  Fast_Food_Intake         100000 non-null  int64  \n",
            " 12  Smoking                  100000 non-null  object \n",
            " 13  Alcohol_Consumption      100000 non-null  object \n",
            " 14  Fasting_Blood_Sugar      100000 non-null  float64\n",
            " 15  HbA1c                    100000 non-null  float64\n",
            " 16  Cholesterol_Level        100000 non-null  float64\n",
            " 17  Prediabetes              100000 non-null  object \n",
            " 18  Diabetes_Type            100000 non-null  object \n",
            " 19  Sleep_Hours              100000 non-null  float64\n",
            " 20  Stress_Level             100000 non-null  int64  \n",
            " 21  Screen_Time              100000 non-null  float64\n",
            "dtypes: float64(6), int64(6), object(10)\n",
            "memory usage: 16.8+ MB\n"
          ]
        }
      ],
      "source": [
        "# Information on Index, Datatypes and Memory \n",
        "diabetes_df.info()"
      ]
    },
    {
      "cell_type": "code",
      "execution_count": null,
      "metadata": {},
      "outputs": [],
      "source": []
    },
    {
      "cell_type": "markdown",
      "metadata": {
        "id": "ZY3l0-AxO93d"
      },
      "source": [
        "---"
      ]
    },
    {
      "cell_type": "markdown",
      "metadata": {
        "id": "uFQo3ycuO-v6"
      },
      "source": [
        "# Section 2"
      ]
    },
    {
      "cell_type": "markdown",
      "metadata": {},
      "source": [
        "Section 2 content"
      ]
    },
    {
      "cell_type": "code",
      "execution_count": null,
      "metadata": {},
      "outputs": [],
      "source": []
    },
    {
      "cell_type": "markdown",
      "metadata": {},
      "source": [
        "---"
      ]
    },
    {
      "cell_type": "markdown",
      "metadata": {},
      "source": [
        "NOTE"
      ]
    },
    {
      "cell_type": "markdown",
      "metadata": {},
      "source": [
        "* You may add as many sections as you want, as long as it supports your project workflow.\n",
        "* All notebook's cells should be run top-down (you can't create a dynamic wherein a given point you need to go back to a previous cell to execute some task, like go back to a previous cell and refresh a variable content)"
      ]
    },
    {
      "cell_type": "markdown",
      "metadata": {},
      "source": [
        "---"
      ]
    },
    {
      "cell_type": "markdown",
      "metadata": {
        "id": "ltNetd085qHf"
      },
      "source": [
        "# Push files to Repo"
      ]
    },
    {
      "cell_type": "markdown",
      "metadata": {},
      "source": [
        "* In cases where you don't need to push files to Repo, you may replace this section with \"Conclusions and Next Steps\" and state your conclusions and next steps."
      ]
    },
    {
      "cell_type": "code",
      "execution_count": null,
      "metadata": {
        "id": "aKlnIozA4eQO",
        "outputId": "fd09bc1f-adb1-4511-f6ce-492a6af570c0"
      },
      "outputs": [],
      "source": [
        "import os\n",
        "try:\n",
        "  # create your folder here\n",
        "  # os.makedirs(name='')\n",
        "except Exception as e:\n",
        "  print(e)\n"
      ]
    }
  ],
  "metadata": {
    "accelerator": "GPU",
    "colab": {
      "name": "Data Practitioner Jupyter Notebook.ipynb",
      "provenance": [],
      "toc_visible": true
    },
    "kernelspec": {
      "display_name": "Python 3",
      "language": "python",
      "name": "python3"
    },
    "language_info": {
      "codemirror_mode": {
        "name": "ipython",
        "version": 3
      },
      "file_extension": ".py",
      "mimetype": "text/x-python",
      "name": "python",
      "nbconvert_exporter": "python",
      "pygments_lexer": "ipython3",
      "version": "3.9.20"
    },
    "orig_nbformat": 2
  },
  "nbformat": 4,
  "nbformat_minor": 2
}
